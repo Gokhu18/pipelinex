{
 "nbformat": 4,
 "nbformat_minor": 2,
 "metadata": {
  "language_info": {
   "name": "python",
   "codemirror_mode": {
    "name": "ipython",
    "version": 3
   },
   "version": "3.6.8-final"
  },
  "orig_nbformat": 2,
  "file_extension": ".py",
  "mimetype": "text/x-python",
  "name": "python",
  "npconvert_exporter": "python",
  "pygments_lexer": "ipython3",
  "version": 3,
  "kernelspec": {
   "name": "python36864bit6efd8c03ac544220bb4e419e6d634f47",
   "display_name": "Python 3.6.8 64-bit"
  }
 },
 "cells": [
  {
   "cell_type": "code",
   "execution_count": 1,
   "metadata": {},
   "outputs": [],
   "source": [
    "try: \n",
    "    import pipelinex\n",
    "except:\n",
    "    \"\"\" Install PipelineX from PyPI \"\"\"\n",
    "    !pip install pipelinex\n",
    "    \n",
    "    \"\"\" Alternatively, you can install from the GitHub repository \"\"\" \n",
    "    # !pip install git+https://github.com/Minyus/pipelinex.git\n",
    "\n",
    "    import pipelinex"
   ]
  },
  {
   "cell_type": "code",
   "execution_count": 2,
   "metadata": {},
   "outputs": [
    {
     "output_type": "execute_result",
     "data": {
      "text/plain": "'0.1.9'"
     },
     "metadata": {},
     "execution_count": 2
    }
   ],
   "source": [
    "\"\"\" Check the PipelineX version \"\"\"\n",
    "pipelinex.__version__"
   ]
  },
  {
   "cell_type": "code",
   "execution_count": 3,
   "metadata": {},
   "outputs": [
    {
     "output_type": "stream",
     "name": "stdout",
     "text": "model object: \n LogisticRegression(C=1.0, class_weight=None, dual=False, fit_intercept=True,\n                   intercept_scaling=1, l1_ratio=None, max_iter=100,\n                   multi_class='warn', n_jobs=None, penalty='l2',\n                   random_state=42, solver='warn', tol=0.0001, verbose=0,\n                   warm_start=False) \n\n"
    }
   ],
   "source": [
    "from sklearn.linear_model import LogisticRegression\n",
    "\n",
    "model = LogisticRegression(C=1.0, random_state=42, max_iter=100)\n",
    "print(\"model object: \\n\", model, \"\\n\")"
   ]
  },
  {
   "cell_type": "code",
   "execution_count": 4,
   "metadata": {},
   "outputs": [
    {
     "output_type": "stream",
     "name": "stdout",
     "text": "model dict: \n {'model_kind': 'LogisticRegression',\n 'model_params': {'C': 1.23456, 'max_iter': 987, 'random_state': 42}} \n\nmodel object: \n LogisticRegression(C=1.23456, class_weight=None, dual=False, fit_intercept=True,\n                   intercept_scaling=1, l1_ratio=None, max_iter=987,\n                   multi_class='warn', n_jobs=None, penalty='l2',\n                   random_state=42, solver='warn', tol=0.0001, verbose=0,\n                   warm_start=False) \n\n"
    }
   ],
   "source": [
    "import yaml\n",
    "from pprint import pformat\n",
    "from sklearn.linear_model import LogisticRegression\n",
    "from sklearn.tree import DecisionTreeClassifier\n",
    "from sklearn.ensemble import RandomForestClassifier\n",
    "\n",
    "# Read parameters dict from a YAML file in actual use\n",
    "params_yaml = \"\"\"\n",
    "model_kind: LogisticRegression\n",
    "model_params:\n",
    "  C: 1.23456\n",
    "  max_iter: 987\n",
    "  random_state: 42\n",
    "\"\"\"\n",
    "parameters = yaml.safe_load(params_yaml)\n",
    "print(\"model dict: \\n\", pformat(parameters), \"\\n\")\n",
    "\n",
    "model_kind = parameters.get(\"model_kind\")\n",
    "model_params_dict = parameters.get(\"model_params\")\n",
    "if model_kind == \"LogisticRegression\":\n",
    "    model = LogisticRegression(**model_params_dict)\n",
    "elif model_kind == \"DecisionTree\":\n",
    "    model = DecisionTreeClassifier(**model_params_dict)\n",
    "elif model_kind == \"RandomForest\":\n",
    "    model = RandomForestClassifier(**model_params_dict)\n",
    "else:\n",
    "    raise ValueError(\"Unsupported model_kind.\")\n",
    "\n",
    "print(\"model object: \\n\", model, \"\\n\")\n",
    ""
   ]
  },
  {
   "cell_type": "code",
   "execution_count": 5,
   "metadata": {},
   "outputs": [
    {
     "output_type": "stream",
     "name": "stdout",
     "text": "model dict: \n {'=': 'sklearn.linear_model.LogisticRegression',\n 'C': 1.23456,\n 'max_iter': 987,\n 'random_state': 42} \n\nmodel object: \n LogisticRegression(C=1.23456, class_weight=None, dual=False, fit_intercept=True,\n                   intercept_scaling=1, l1_ratio=None, max_iter=987,\n                   multi_class='warn', n_jobs=None, penalty='l2',\n                   random_state=42, solver='warn', tol=0.0001, verbose=0,\n                   warm_start=False) \n\n"
    }
   ],
   "source": [
    "from pipelinex import HatchDict\n",
    "import yaml\n",
    "from pprint import pformat\n",
    "# You do not need to add `import sklearn.linear_model.LogisticRegression` !\n",
    "\n",
    "# Read parameters dict from a YAML file in actual use\n",
    "params_yaml=\"\"\"\n",
    "model:\n",
    "  =: sklearn.linear_model.LogisticRegression\n",
    "  C: 1.23456\n",
    "  max_iter: 987\n",
    "  random_state: 42\n",
    "\"\"\"\n",
    "parameters = yaml.safe_load(params_yaml)\n",
    "\n",
    "model_dict = parameters.get(\"model\")\n",
    "print(\"model dict: \\n\", pformat(model_dict), \"\\n\")\n",
    "\n",
    "model = HatchDict(parameters).get(\"model\")\n",
    "print(\"model object: \\n\", model, \"\\n\")"
   ]
  },
  {
   "cell_type": "code",
   "execution_count": 6,
   "metadata": {},
   "outputs": [
    {
     "output_type": "stream",
     "name": "stdout",
     "text": "train_params dict: \n {'train_batch_size': 32,\n 'val_batch_size': {'=': 'train_params.train_batch_size'}} \n\ntrain_params object: \n {'train_batch_size': 32, 'val_batch_size': 32} \n\n"
    }
   ],
   "source": [
    "from pipelinex import HatchDict\n",
    "import yaml\n",
    "from pprint import pformat\n",
    "\n",
    "# Read parameters dict from a YAML file in actual use\n",
    "params_yaml=\"\"\"\n",
    "train_params:\n",
    "  train_batch_size: 32\n",
    "  val_batch_size: {=: train_params.train_batch_size}\n",
    "\"\"\"\n",
    "parameters = yaml.safe_load(params_yaml)\n",
    "\n",
    "train_params_dict = parameters.get(\"train_params\")\n",
    "print(\"train_params dict: \\n\", pformat(train_params_dict), \"\\n\")\n",
    "\n",
    "train_params = HatchDict(parameters).get(\"train_params\")\n",
    "print(\"train_params object: \\n\", train_params, \"\\n\")"
   ]
  },
  {
   "cell_type": "code",
   "execution_count": 7,
   "metadata": {},
   "outputs": [
    {
     "output_type": "stream",
     "name": "stdout",
     "text": "train_params raw dict: \n {'param1_tuple_python': '(1, 2, 3)',\n 'param1_tuple_yaml': (1, 2, 3),\n 'param2_formula_python': '(2 + 3)',\n 'param3_neg_inf_python': '(float(\"-Inf\"))',\n 'param3_neg_inf_yaml': -inf,\n 'param4_float_1e9_python': '(1e9)',\n 'param4_float_1e9_yaml': 1000000000.0,\n 'param5_int_1e9_python': '(int(1e9))'} \n\ntrain_params parsed dict: \n {'param1_tuple_python': (1, 2, 3),\n 'param1_tuple_yaml': (1, 2, 3),\n 'param2_formula_python': 5,\n 'param3_neg_inf_python': -inf,\n 'param3_neg_inf_yaml': -inf,\n 'param4_float_1e9_python': 1000000000.0,\n 'param4_float_1e9_yaml': 1000000000.0,\n 'param5_int_1e9_python': 1000000000} \n\n"
    }
   ],
   "source": [
    "from pipelinex import HatchDict\n",
    "import yaml\n",
    "from pprint import pformat\n",
    "\n",
    "# Read parameters dict from a YAML file in actual use\n",
    "params_yaml = \"\"\"\n",
    "train_params:\n",
    "  param1_tuple_python: (1, 2, 3)\n",
    "  param1_tuple_yaml: !!python/tuple [1, 2, 3]\n",
    "  param2_formula_python: (2 + 3)\n",
    "  param3_neg_inf_python: (float(\"-Inf\"))\n",
    "  param3_neg_inf_yaml: -.Inf\n",
    "  param4_float_1e9_python: (1e9)\n",
    "  param4_float_1e9_yaml: 1.0e+09\n",
    "  param5_int_1e9_python: (int(1e9))\n",
    "\"\"\"\n",
    "parameters = yaml.load(params_yaml)\n",
    "\n",
    "train_params_dict = parameters.get(\"train_params\")\n",
    "print(\"train_params raw dict: \\n\", pformat(train_params_dict), \"\\n\")\n",
    "\n",
    "train_params = HatchDict(parameters).get(\"train_params\")\n",
    "print(\"train_params parsed dict: \\n\", pformat(train_params), \"\\n\")"
   ]
  }
 ]
}